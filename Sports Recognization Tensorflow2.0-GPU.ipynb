{
 "cells": [
  {
   "cell_type": "markdown",
   "metadata": {},
   "source": [
    "# Sports Activities Recognization using Tensorflow 2.1-GPU,ResNet & OpenCV"
   ]
  },
  {
   "cell_type": "markdown",
   "metadata": {},
   "source": [
    "Imports Libraries"
   ]
  },
  {
   "cell_type": "code",
   "execution_count": 1,
   "metadata": {},
   "outputs": [],
   "source": [
    "import os\n",
    "import cv2\n",
    "import numpy as np\n",
    "import argparse\n",
    "import pickle\n",
    "import matplotlib.pyplot as plt\n",
    "import imutils\n",
    "from imutils import paths\n",
    "\n",
    "from sklearn.preprocessing import LabelBinarizer\n",
    "from sklearn.metrics import classification_report\n",
    "from sklearn.model_selection import train_test_split\n",
    "\n",
    "from tensorflow.keras.preprocessing.image import ImageDataGenerator\n",
    "from tensorflow.keras.applications import ResNet50\n",
    "from tensorflow.keras.layers import MaxPooling2D,AveragePooling2D\n",
    "from tensorflow.keras.layers import Dense\n",
    "from tensorflow.keras.layers import Flatten\n",
    "from tensorflow.keras.layers import Dropout\n",
    "from tensorflow.keras.layers import Input\n",
    "from tensorflow.keras.models import Model\n",
    "from tensorflow.keras.optimizers import SGD"
   ]
  },
  {
   "cell_type": "markdown",
   "metadata": {},
   "source": [
    "Parse Command Line Arguments"
   ]
  },
  {
   "cell_type": "code",
   "execution_count": 2,
   "metadata": {},
   "outputs": [],
   "source": [
    "#construct the arguments and parse the arguments\n",
    "ap=argparse.ArgumentParser()\n",
    "\n",
    "ap.add_argument(\"--dataset\",required=True,help=\" path to input dataset\")\n",
    "ap.add_argument(\"--model\",required=True,help=\"path of outpur serialized model\")\n",
    "ap.add_argument(\"--label_bin\",required=True,help=\"opath to output label binalizer\")\n",
    "\n",
    "args=vars(ap.parse_args([\"--dataset\",r\"C:\\Users\\SRKT\\Desktop\\sports_activity_dataset\",\n",
    "                        \"--model\",r\"C:\\Users\\SRKT\\Desktop\\sports_activity_dataset\",\n",
    "                        \"--label_bin\",r\"C:\\Users\\SRKT\\Desktop\\sports_activity_dataset\"]))"
   ]
  },
  {
   "cell_type": "markdown",
   "metadata": {},
   "source": [
    "Data Loading & Labeling"
   ]
  },
  {
   "cell_type": "code",
   "execution_count": 3,
   "metadata": {},
   "outputs": [],
   "source": [
    "#initialize the sets of labels from the sports activity dataset we are going to train our network on\n",
    "LABELS=[\"diving-Side\",\"golf\",\"kicking\",\"lifting\",\"riding-Hourse\",\"walk-Front\"]\n",
    "\n",
    "#grab the list of image in our dataset directory , then initialize the list of data(i.e image) and class image\n",
    "image_paths=list(paths.list_images(args[\"dataset\"]))\n",
    "\n",
    "data=[]\n",
    "labels=[]\n",
    "\n",
    "#loop over the image paths\n",
    "for image_path in image_paths:\n",
    "    \n",
    "    #extract the class label from the file_name\n",
    "    label=image_path.split(os.path.sep)[-2]\n",
    "    \n",
    "    #load the image , convert it to RGB channel ordering and resize it\n",
    "    image=cv2.imread(image_path)\n",
    "    image=cv2.cvtColor(image,cv2.COLOR_BGR2RGB)\n",
    "    image=cv2.resize(image,(224,224))\n",
    "    \n",
    "    #update the data and labels lists\n",
    "    labels.append(label)\n",
    "    data.append(image)\n",
    "    "
   ]
  },
  {
   "cell_type": "code",
   "execution_count": 4,
   "metadata": {},
   "outputs": [],
   "source": [
    "#convert the data and labels to numpy array\n",
    "data=np.array(data)\n",
    "labels=np.array(labels)\n",
    "\n",
    "#perform one hot encoding on the labels\n",
    "lb=LabelBinarizer()\n",
    "labels=lb.fit_transform(labels)"
   ]
  },
  {
   "cell_type": "code",
   "execution_count": 5,
   "metadata": {},
   "outputs": [],
   "source": [
    "#training-testing split \n",
    "(x_train,x_test,y_train,y_test)=train_test_split(data,labels,test_size=0.25,stratify=labels,random_state=42)"
   ]
  },
  {
   "cell_type": "markdown",
   "metadata": {},
   "source": [
    "Data Augmentation"
   ]
  },
  {
   "cell_type": "code",
   "execution_count": 6,
   "metadata": {},
   "outputs": [],
   "source": [
    "#initialize the training data augmentaion object\n",
    "train_aug=ImageDataGenerator(rotation_range=30,\n",
    "                            zoom_range=0.15,\n",
    "                            width_shift_range=0.2,\n",
    "                            height_shift_range=0.2,\n",
    "                            shear_range=0.15,\n",
    "                            horizontal_flip=True,\n",
    "                            fill_mode=\"nearest\")\n",
    "\n",
    "#initialzie the validation/testing data augmentation object(which we will be adding meand subtracting too)\n",
    "val_aug=ImageDataGenerator()\n",
    "\n",
    "#define the ImageNet mean subtracting (in RGB order) and set the mean subtracting value for each of the data augmentation object\n",
    "mean=np.array([123.68,116.779,103.939],dtype=\"float32\")\n",
    "train_aug.mean=mean\n",
    "val_aug.mean=mean"
   ]
  },
  {
   "cell_type": "markdown",
   "metadata": {},
   "source": [
    "Model Bulding"
   ]
  },
  {
   "cell_type": "code",
   "execution_count": 7,
   "metadata": {},
   "outputs": [],
   "source": [
    "#load the ResNet50 network,ensuring the head FC sets are left off\n",
    "baseModel=ResNet50(weights=\"imagenet\",include_top=False,input_tensor=Input(shape=(224,224,3)))\n",
    "\n",
    "#construct the head model which will be placed on top of base model\n",
    "headModel=baseModel.output\n",
    "headModel=AveragePooling2D(pool_size=(7,7))(headModel)\n",
    "headModel=Flatten(name=\"flatten\")(headModel)\n",
    "headModel=Dense(512,activation=\"relu\")(headModel)\n",
    "headModel=Dropout(0.5)(headModel)\n",
    "headModel=Dense(len(lb.classes_),activation=\"softmax\")(headModel)\n",
    "\n",
    "#place the head FC on top of base model (this will actually model to train )\n",
    "model=Model(inputs=baseModel.input,outputs=headModel)\n",
    "\n",
    "#loop over all the layers in the base model and freeze so they will not update during training\n",
    "for layer in baseModel.layers:\n",
    "    layer.trainable=False\n",
    "    \n",
    "#We’ll now freeze the baseModel so that it will not be trained via backpropagation "
   ]
  },
  {
   "cell_type": "markdown",
   "metadata": {},
   "source": [
    "Model Training"
   ]
  },
  {
   "cell_type": "code",
   "execution_count": 8,
   "metadata": {},
   "outputs": [
    {
     "name": "stdout",
     "output_type": "stream",
     "text": [
      "WARNING:tensorflow:From <ipython-input-8-9772ce6b5771>:17: Model.fit_generator (from tensorflow.python.keras.engine.training) is deprecated and will be removed in a future version.\n",
      "Instructions for updating:\n",
      "Please use Model.fit, which supports generators.\n",
      "WARNING:tensorflow:sample_weight modes were coerced from\n",
      "  ...\n",
      "    to  \n",
      "  ['...']\n",
      "WARNING:tensorflow:sample_weight modes were coerced from\n",
      "  ...\n",
      "    to  \n",
      "  ['...']\n",
      "Train for 68 steps, validate for 22 steps\n",
      "Epoch 1/25\n",
      "68/68 [==============================] - 122s 2s/step - loss: 1.8162 - accuracy: 0.3119 - val_loss: 1.3395 - val_accuracy: 0.5028\n",
      "Epoch 2/25\n",
      "68/68 [==============================] - 36s 528ms/step - loss: 1.1225 - accuracy: 0.6020 - val_loss: 0.9553 - val_accuracy: 0.6776\n",
      "Epoch 3/25\n",
      "68/68 [==============================] - 38s 565ms/step - loss: 0.8158 - accuracy: 0.7426 - val_loss: 0.7458 - val_accuracy: 0.7784\n",
      "Epoch 4/25\n",
      "68/68 [==============================] - 43s 629ms/step - loss: 0.6451 - accuracy: 0.8172 - val_loss: 0.6382 - val_accuracy: 0.8011\n",
      "Epoch 5/25\n",
      "68/68 [==============================] - 42s 615ms/step - loss: 0.5192 - accuracy: 0.8704 - val_loss: 0.5601 - val_accuracy: 0.8153\n",
      "Epoch 6/25\n",
      "68/68 [==============================] - 43s 633ms/step - loss: 0.4628 - accuracy: 0.8811 - val_loss: 0.5074 - val_accuracy: 0.8352\n",
      "Epoch 7/25\n",
      "68/68 [==============================] - 43s 639ms/step - loss: 0.3645 - accuracy: 0.9278 - val_loss: 0.4703 - val_accuracy: 0.8409\n",
      "Epoch 8/25\n",
      "68/68 [==============================] - 44s 641ms/step - loss: 0.3443 - accuracy: 0.9190 - val_loss: 0.4636 - val_accuracy: 0.8381\n",
      "Epoch 9/25\n",
      "68/68 [==============================] - 46s 681ms/step - loss: 0.3017 - accuracy: 0.9385 - val_loss: 0.4485 - val_accuracy: 0.8352\n",
      "Epoch 10/25\n",
      "68/68 [==============================] - 44s 647ms/step - loss: 0.2661 - accuracy: 0.9505 - val_loss: 0.4223 - val_accuracy: 0.8509\n",
      "Epoch 11/25\n",
      "68/68 [==============================] - 44s 651ms/step - loss: 0.2459 - accuracy: 0.9505 - val_loss: 0.3756 - val_accuracy: 0.8679\n",
      "Epoch 12/25\n",
      "68/68 [==============================] - 48s 707ms/step - loss: 0.2291 - accuracy: 0.9537 - val_loss: 0.3664 - val_accuracy: 0.8722\n",
      "Epoch 13/25\n",
      "68/68 [==============================] - 41s 596ms/step - loss: 0.1993 - accuracy: 0.9634 - val_loss: 0.3618 - val_accuracy: 0.8707\n",
      "Epoch 14/25\n",
      "68/68 [==============================] - 38s 565ms/step - loss: 0.1993 - accuracy: 0.9639 - val_loss: 0.3539 - val_accuracy: 0.8722\n",
      "Epoch 15/25\n",
      "68/68 [==============================] - 41s 602ms/step - loss: 0.1755 - accuracy: 0.9699 - val_loss: 0.3468 - val_accuracy: 0.8736\n",
      "Epoch 16/25\n",
      "68/68 [==============================] - 40s 594ms/step - loss: 0.1707 - accuracy: 0.9704 - val_loss: 0.3331 - val_accuracy: 0.8778\n",
      "Epoch 17/25\n",
      "68/68 [==============================] - 40s 593ms/step - loss: 0.1504 - accuracy: 0.9736 - val_loss: 0.3260 - val_accuracy: 0.8821\n",
      "Epoch 18/25\n",
      "68/68 [==============================] - 40s 595ms/step - loss: 0.1465 - accuracy: 0.9741 - val_loss: 0.3249 - val_accuracy: 0.8793\n",
      "Epoch 19/25\n",
      "68/68 [==============================] - 40s 587ms/step - loss: 0.1418 - accuracy: 0.9755 - val_loss: 0.3187 - val_accuracy: 0.8793\n",
      "Epoch 20/25\n",
      "68/68 [==============================] - 40s 589ms/step - loss: 0.1335 - accuracy: 0.9773 - val_loss: 0.3258 - val_accuracy: 0.8736\n",
      "Epoch 21/25\n",
      "68/68 [==============================] - 41s 604ms/step - loss: 0.1247 - accuracy: 0.9796 - val_loss: 0.3107 - val_accuracy: 0.8835\n",
      "Epoch 22/25\n",
      "68/68 [==============================] - 40s 594ms/step - loss: 0.1204 - accuracy: 0.9820 - val_loss: 0.2969 - val_accuracy: 0.8849\n",
      "Epoch 23/25\n",
      "68/68 [==============================] - 39s 574ms/step - loss: 0.1177 - accuracy: 0.9778 - val_loss: 0.2968 - val_accuracy: 0.8849\n",
      "Epoch 24/25\n",
      "68/68 [==============================] - 42s 610ms/step - loss: 0.1193 - accuracy: 0.9773 - val_loss: 0.3093 - val_accuracy: 0.8821\n",
      "Epoch 25/25\n",
      "68/68 [==============================] - 41s 597ms/step - loss: 0.1132 - accuracy: 0.9783 - val_loss: 0.3081 - val_accuracy: 0.8807\n"
     ]
    }
   ],
   "source": [
    "#compile the model\n",
    "batch_size=32\n",
    "epochs=25\n",
    "opt=SGD(lr=1e-4,momentum=0.9,decay=1e-4/50)\n",
    "model.compile(loss=\"categorical_crossentropy\",optimizer=opt,metrics=[\"accuracy\"])\n",
    "\n",
    "#train the head of the network for a few epochs (all other are frozen)-- this will allow  the new FC layers to\n",
    "#start to become intialize with actual \"learned\" values pure random\n",
    "\n",
    "#update in tensorflow 2 where we can use fit in place of fit_generator while data augmentations\n",
    "\n",
    "H=model.fit_generator(\n",
    "            train_aug.flow(x_train,y_train,batch_size=batch_size),\n",
    "            steps_per_epoch=len(x_train)//batch_size,\n",
    "            validation_data=val_aug.flow(x_test,y_test),\n",
    "            validation_steps=len(x_test)//batch_size,\n",
    "            epochs=epochs)"
   ]
  },
  {
   "cell_type": "markdown",
   "metadata": {},
   "source": [
    "Model Evaluate"
   ]
  },
  {
   "cell_type": "code",
   "execution_count": 9,
   "metadata": {},
   "outputs": [
    {
     "name": "stdout",
     "output_type": "stream",
     "text": [
      "Classification report               precision    recall  f1-score   support\n",
      "\n",
      " diving-Side       0.99      0.99      0.99       137\n",
      "        golf       1.00      0.47      0.64       105\n",
      "     kicking       0.48      1.00      0.65        75\n",
      "     lifting       0.99      1.00      0.99       176\n",
      "riding-Horse       1.00      0.85      0.92       120\n",
      "  walk-Front       1.00      0.92      0.96       118\n",
      "\n",
      "    accuracy                           0.88       731\n",
      "   macro avg       0.91      0.87      0.86       731\n",
      "weighted avg       0.94      0.88      0.89       731\n",
      "\n"
     ]
    }
   ],
   "source": [
    "#evaluate the network\n",
    "predictions=model.predict(x=x_test.astype(\"float32\"),batch_size=32)\n",
    "print(\"Classification report\",classification_report(y_test.argmax(axis=1),predictions.argmax(axis=1),target_names=lb.classes_))"
   ]
  },
  {
   "cell_type": "markdown",
   "metadata": {},
   "source": [
    "Plot The Graph"
   ]
  },
  {
   "cell_type": "code",
   "execution_count": 10,
   "metadata": {},
   "outputs": [
    {
     "data": {
      "text/plain": [
       "<matplotlib.legend.Legend at 0x1b7af913d88>"
      ]
     },
     "execution_count": 10,
     "metadata": {},
     "output_type": "execute_result"
    },
    {
     "data": {
      "image/png": "[encoded data removed]",
      "text/plain": [
       "<Figure size 576x432 with 1 Axes>"
      ]
     },
     "metadata": {},
     "output_type": "display_data"
    }
   ],
   "source": [
    "#plot the train loss and accuracy \n",
    "plt.style.use(\"ggplot\")\n",
    "plt.figure(figsize=(8,6))\n",
    "plt.plot(np.arange(0,epochs),H.history[\"loss\"],label=\"Traning_loss\",color=\"red\")\n",
    "plt.plot(np.arange(0,epochs),H.history[\"val_loss\"],label=\"Validation loss\",color=\"black\")\n",
    "plt.plot(np.arange(0,epochs),H.history[\"accuracy\"],label=\"Training Accuracy\",color=\"green\")\n",
    "plt.plot(np.arange(0,epochs),H.history[\"val_accuracy\"],label=\"Validation Accuracy\",color=\"blue\")\n",
    "plt.title(\"Training Loss and Accuracy\")\n",
    "plt.xlabel(\"Epochs\")\n",
    "plt.ylabel(\"Loss/Accuracy\")\n",
    "plt.legend()\n"
   ]
  },
  {
   "cell_type": "markdown",
   "metadata": {},
   "source": [
    "Model Save"
   ]
  },
  {
   "cell_type": "code",
   "execution_count": 16,
   "metadata": {},
   "outputs": [],
   "source": [
    "#serialize the model to disk\n",
    "model.save(r\"C:\\Users\\SRKT\\Desktop\\sports_activity_dataset\\model\\model.h5\",save_format=\"h5\")\n",
    "\n",
    "#serialize the label binarizer to disk\n",
    "f=open(r\"C:\\Users\\SRKT\\Desktop\\sports_activity_dataset\\label\\lb_bin\",\"wb\")\n",
    "f.write(pickle.dumps(lb))\n",
    "f.close()\n"
   ]
  },
  {
   "cell_type": "code",
   "execution_count": null,
   "metadata": {},
   "outputs": [],
   "source": []
  }
 ],
 "metadata": {
  "kernelspec": {
   "display_name": "Python 3.7 (tensorflow)",
   "language": "python",
   "name": "tensorflow"
  },
  "language_info": {
   "codemirror_mode": {
    "name": "ipython",
    "version": 3
   },
   "file_extension": ".py",
   "mimetype": "text/x-python",
   "name": "python",
   "nbconvert_exporter": "python",
   "pygments_lexer": "ipython3",
   "version": "3.7.7"
  }
 },
 "nbformat": 4,
 "nbformat_minor": 4
}
