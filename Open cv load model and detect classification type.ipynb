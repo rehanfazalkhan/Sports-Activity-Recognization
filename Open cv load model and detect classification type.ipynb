{
 "cells": [
  {
   "cell_type": "markdown",
   "metadata": {},
   "source": [
    "# Video classification with Tensorflow 2-GPU and rolling prediction averaging"
   ]
  },
  {
   "cell_type": "markdown",
   "metadata": {},
   "source": [
    "Imports Libraries"
   ]
  },
  {
   "cell_type": "code",
   "execution_count": 14,
   "metadata": {},
   "outputs": [],
   "source": [
    "from tensorflow.keras.models import load_model\n",
    "from collections import deque\n",
    "import numpy as np\n",
    "import argparse\n",
    "import pickle\n",
    "import cv2"
   ]
  },
  {
   "cell_type": "markdown",
   "metadata": {},
   "source": [
    "Argument Parser"
   ]
  },
  {
   "cell_type": "code",
   "execution_count": 22,
   "metadata": {},
   "outputs": [],
   "source": [
    "#construct arguments and parse the arguments\n",
    "ap=argparse.ArgumentParser()\n",
    "\n",
    "ap.add_argument(\"--model\",required=True,help=\"path to serialize trained model\")\n",
    "ap.add_argument(\"--label_bin\",required=True,help=\"path to serialize the label_bin\")\n",
    "ap.add_argument(\"--input\",required=True,help=\"path to input video\")\n",
    "ap.add_argument(\"--output\",required=True,help=\"path to output save video\")\n",
    "\n",
    "args=vars(ap.parse_args([\"--model\",r\"C:\\Users\\SRKT\\Desktop\\sports_activity_dataset\\model\\model.h5\",\n",
    "                        \"--label_bin\",r\"C:\\Users\\SRKT\\Desktop\\sports_activity_dataset\\label\\lb_bin\",\n",
    "                        \"--input\",r\"C:\\Users\\SRKT\\Desktop\\sports_activity_dataset\\video\\4456-16_700273.avi\",\n",
    "                        \"--output\",r\"C:\\Users\\SRKT\\Desktop\\sports_activity_dataset\\output\\1.avi\"]))"
   ]
  },
  {
   "cell_type": "markdown",
   "metadata": {},
   "source": [
    "Loads Trained Models"
   ]
  },
  {
   "cell_type": "code",
   "execution_count": 16,
   "metadata": {},
   "outputs": [],
   "source": [
    "#load the trained model and label binarizer\n",
    "model=load_model(args[\"model\"])\n",
    "lb=pickle.loads(open(args[\"label_bin\"],\"rb\").read())\n",
    "mean = np.array([123.68, 116.779, 103.939][::1], dtype=\"float32\")\n",
    "Q = deque(maxlen=128)\n"
   ]
  },
  {
   "cell_type": "markdown",
   "metadata": {},
   "source": [
    "Running Video Capture & Classification"
   ]
  },
  {
   "cell_type": "code",
   "execution_count": 23,
   "metadata": {},
   "outputs": [],
   "source": [
    "#initialize the video stream \n",
    "vs=cv2.VideoCapture(args[\"input\"])\n",
    "(w,h)=(None,None)\n",
    "writer=None\n",
    "\n",
    "#loop over frames \n",
    "while True:\n",
    "    (rest,frame)=vs.read()\n",
    "    if not rest:\n",
    "        break\n",
    "    \n",
    "    if w is None or h is None:\n",
    "        (h,w)=frame.shape[:2]\n",
    "    \n",
    "    output=frame.copy()\n",
    "    \n",
    "    #convert frame from BGR TO RGB\n",
    "    frame=cv2.cvtColor(frame,cv2.COLOR_BGR2RGB)\n",
    "    frame=cv2.resize(frame,(224,224)).astype(\"float32\")\n",
    "    frame-=mean\n",
    "    \n",
    "    #make predictions\n",
    "    preds=model.predict(np.expand_dims(frame,axis=0))[0] #expend dimensions as tensorflow accepty 3 dimensions\n",
    "    Q.append(preds)\n",
    "    \n",
    "    #perform predcitions averaging over the current history of the previous predictions\n",
    "    results=np.array(Q).mean(axis=0)\n",
    "    i=np.argmax(results)\n",
    "    label=lb.classes_[i]\n",
    "    \n",
    "    text=\"activity:{}\".format(label)\n",
    "    cv2.putText(output,text,(35,50),cv2.FONT_HERSHEY_SIMPLEX,1.25,(0,255,0),5)\n",
    "    \n",
    "    #check if video writer is none\n",
    "    if writer is None:\n",
    "        #initialize our video writer\n",
    "        fourcc=cv2.VideoWriter_fourcc(*\"MJPG\")\n",
    "        writer=cv2.VideoWriter(args[\"output\"],fourcc,30,(w,h),True)\n",
    "    writer.write(output)\n",
    "    \n",
    "    cv2.imshow(\"output\",output)\n",
    "    key=cv2.waitKey(1) &0xFF\n",
    "    \n",
    "    if key==ord(\"q\"):\n",
    "        break\n",
    "        \n",
    "\n",
    "cv2.destroyAllWindows()\n",
    "    \n",
    "    "
   ]
  },
  {
   "cell_type": "code",
   "execution_count": null,
   "metadata": {},
   "outputs": [],
   "source": []
  }
 ],
 "metadata": {
  "kernelspec": {
   "display_name": "Python 3",
   "language": "python",
   "name": "python3"
  },
  "language_info": {
   "codemirror_mode": {
    "name": "ipython",
    "version": 3
   },
   "file_extension": ".py",
   "mimetype": "text/x-python",
   "name": "python",
   "nbconvert_exporter": "python",
   "pygments_lexer": "ipython3",
   "version": "3.7.7"
  }
 },
 "nbformat": 4,
 "nbformat_minor": 4
}
